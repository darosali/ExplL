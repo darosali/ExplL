{
 "cells": [
  {
   "cell_type": "code",
   "id": "initial_id",
   "metadata": {
    "collapsed": true,
    "ExecuteTime": {
     "end_time": "2024-10-01T10:06:23.908485Z",
     "start_time": "2024-10-01T10:06:23.800797Z"
    }
   },
   "source": [
    "%load_ext autoreload\n",
    "%autoreload 2\n",
    "import numpy as np\n",
    "import matplotlib.pyplot as plt\n",
    "import polars as pl\n",
    "from datetime import datetime\n",
    "from test import transform_data, test_rf, test_rf_hp, find_threshold, test_xgb, test_lightgbm, test_logistic_regression, test_perceptron"
   ],
   "outputs": [
    {
     "name": "stdout",
     "output_type": "stream",
     "text": [
      "The autoreload extension is already loaded. To reload it, use:\n",
      "  %reload_ext autoreload\n"
     ]
    }
   ],
   "execution_count": 80
  },
  {
   "metadata": {},
   "cell_type": "markdown",
   "source": "",
   "id": "ace98a526c50ce36"
  },
  {
   "metadata": {
    "ExecuteTime": {
     "end_time": "2024-10-01T06:52:07.025825Z",
     "start_time": "2024-10-01T06:51:47.783388Z"
    }
   },
   "cell_type": "code",
   "source": [
    "# N = 24000000\n",
    "# df = pl.read_parquet('ibm_fraud_processed.pq', n_rows=N)\n",
    "df = pl.scan_parquet('ibm_fraud_processed.pq')\n",
    "df = df.filter((pl.col('date') > datetime(2019,1,1)) & (pl.col('date') < datetime(2020,1,1))).collect() \n",
    "print(df.columns)\n",
    "N = df.height\n",
    "print(N)"
   ],
   "id": "a8407b315a07a171",
   "outputs": [
    {
     "name": "stdout",
     "output_type": "stream",
     "text": [
      "['timestamp', 'customer.id', 'direction', 'amount_usd', 'amount_signed', 'date', 'customer.name', 'customer.age', 'customer.gender', 'customer.address', 'customer.city', 'customer.state', 'customer.zip', 'score', 'total_debt', 'credit_limit', 'latitude', 'longitude', 'card.id', 'card.number', 'card.mcc', 'card.brand', 'card.type', 'card.chip', 'card.expiry_date', 'card.cvv', 'num_cards', 'merchant.name', 'merchant.city', 'merchant.state', 'error', 'is_fraud', 'is_known_merchant', 'seen_count_last_2_days', 'seen_count_mcc_last_2_days', 'seen_count_last_7_days', 'seen_count_mcc_last_7_days', 'seen_count_last_30_days', 'seen_count_mcc_last_30_days', 'log_timediff', 'same_city', 'same_state']\n",
      "1723938\n"
     ]
    }
   ],
   "execution_count": 2
  },
  {
   "metadata": {
    "ExecuteTime": {
     "end_time": "2024-10-01T06:52:11.698387Z",
     "start_time": "2024-10-01T06:52:11.108650Z"
    }
   },
   "cell_type": "code",
   "source": [
    "print(df.select(pl.col(\"card.brand\").unique()))\n",
    "print(df.select(pl.col(\"card.type\").unique()))\n",
    "print(df.select(pl.col(\"card.chip\").unique()))\n",
    "print(df.select(pl.col(\"error\").unique()))\n",
    "print(df.select(pl.col(\"is_fraud\").unique()))\n",
    "print(df.select(pl.col(\"card.mcc\").unique()))"
   ],
   "id": "1817235d6bffde67",
   "outputs": [
    {
     "name": "stdout",
     "output_type": "stream",
     "text": [
      "shape: (4, 1)\n",
      "┌────────────┐\n",
      "│ card.brand │\n",
      "│ ---        │\n",
      "│ str        │\n",
      "╞════════════╡\n",
      "│ Mastercard │\n",
      "│ Visa       │\n",
      "│ Amex       │\n",
      "│ Discover   │\n",
      "└────────────┘\n",
      "shape: (3, 1)\n",
      "┌─────────────────┐\n",
      "│ card.type       │\n",
      "│ ---             │\n",
      "│ str             │\n",
      "╞═════════════════╡\n",
      "│ Debit           │\n",
      "│ Debit (Prepaid) │\n",
      "│ Credit          │\n",
      "└─────────────────┘\n",
      "shape: (3, 1)\n",
      "┌────────────────────┐\n",
      "│ card.chip          │\n",
      "│ ---                │\n",
      "│ str                │\n",
      "╞════════════════════╡\n",
      "│ Online Transaction │\n",
      "│ Chip Transaction   │\n",
      "│ Swipe Transaction  │\n",
      "└────────────────────┘\n",
      "shape: (22, 1)\n",
      "┌─────────────────────────────────┐\n",
      "│ error                           │\n",
      "│ ---                             │\n",
      "│ str                             │\n",
      "╞═════════════════════════════════╡\n",
      "│ Technical Glitch                │\n",
      "│ Bad CVV,Insufficient Balance    │\n",
      "│ Bad PIN,Technical Glitch        │\n",
      "│ Bad Card Number,Insufficient B… │\n",
      "│ Bad Card Number                 │\n",
      "│ …                               │\n",
      "│ Bad Expiration,Insufficient Ba… │\n",
      "│ Bad Expiration,Bad CVV          │\n",
      "│ Insufficient Balance,Technical… │\n",
      "│ Bad Zipcode,Insufficient Balan… │\n",
      "│ Bad Card Number,Bad CVV         │\n",
      "└─────────────────────────────────┘\n",
      "shape: (2, 1)\n",
      "┌──────────┐\n",
      "│ is_fraud │\n",
      "│ ---      │\n",
      "│ str      │\n",
      "╞══════════╡\n",
      "│ No       │\n",
      "│ Yes      │\n",
      "└──────────┘\n",
      "shape: (109, 1)\n",
      "┌──────────┐\n",
      "│ card.mcc │\n",
      "│ ---      │\n",
      "│ i64      │\n",
      "╞══════════╡\n",
      "│ 1711     │\n",
      "│ 3000     │\n",
      "│ 3001     │\n",
      "│ 3005     │\n",
      "│ 3006     │\n",
      "│ …        │\n",
      "│ 8062     │\n",
      "│ 8099     │\n",
      "│ 8111     │\n",
      "│ 8931     │\n",
      "│ 9402     │\n",
      "└──────────┘\n"
     ]
    }
   ],
   "execution_count": 3
  },
  {
   "metadata": {
    "ExecuteTime": {
     "end_time": "2024-10-01T06:52:18.071609Z",
     "start_time": "2024-10-01T06:52:17.923787Z"
    }
   },
   "cell_type": "code",
   "source": [
    "fraud_num = (df.filter(pl.col(\"is_fraud\") == \"Yes\")).height\n",
    "print(\"Number of fraudulent transactions among \" + str(N) + \" transactions: \" + str(fraud_num))\n",
    "print(\"Fraud ratio amongst the first \" + str(N) + \" transactions: \" + str(float(fraud_num/N) * 100) + \"%\")"
   ],
   "id": "e7c5a88e33bf8c88",
   "outputs": [
    {
     "name": "stdout",
     "output_type": "stream",
     "text": [
      "Number of fraudulent transactions among 1723938 transactions: 2087\n",
      "Fraud ratio amongst the first 1723938 transactions: 0.12106003812202062%\n"
     ]
    }
   ],
   "execution_count": 4
  },
  {
   "metadata": {
    "ExecuteTime": {
     "end_time": "2024-10-01T06:52:28.399220Z",
     "start_time": "2024-10-01T06:52:27.169966Z"
    }
   },
   "cell_type": "code",
   "source": [
    "print(\"Create a histogram of the amount_usd\")\n",
    "n_bins = 20\n",
    "amount_v = (df.select(pl.col(\"amount_usd\"))).to_numpy().flatten()\n",
    "# amount_debt = (df.select(pl.col(\"total_debt\"))).to_numpy().flatten()\n",
    "amount_vlog = np.log(amount_v + 1)\n",
    "fig, axs = plt.subplots(1, 2, sharey=True, tight_layout=True)\n",
    "axs[0].hist(amount_v, bins=n_bins)\n",
    "axs[1].hist(amount_vlog, bins=n_bins)\n",
    "fig.suptitle('Histogram of amount_usd')\n",
    "fig.text(0.5, 0, 'Amount (USD)')\n",
    "axs[0].set_ylabel('Frequency')\n",
    "plt.show()\n"
   ],
   "id": "ccdc14029a1158fc",
   "outputs": [
    {
     "name": "stdout",
     "output_type": "stream",
     "text": [
      "Create a histogram of the amount_usd\n"
     ]
    },
    {
     "data": {
      "text/plain": [
       "<Figure size 640x480 with 2 Axes>"
      ],
      "image/png": "[encoded data removed]"
     },
     "metadata": {},
     "output_type": "display_data"
    }
   ],
   "execution_count": 5
  },
  {
   "metadata": {
    "ExecuteTime": {
     "end_time": "2024-10-01T06:52:31.485272Z",
     "start_time": "2024-10-01T06:52:31.260894Z"
    }
   },
   "cell_type": "code",
   "source": [
    "print(\"A closer look at transformed data\")\n",
    "#plt.clf()\n",
    "fig, axs = plt.subplots()\n",
    "axs.hist(amount_vlog, bins=n_bins)\n",
    "axs.set_title('Histogram of transformed amount')\n",
    "axs.set_ylabel('Frequency')\n",
    "axs.set_xlabel('Transformed amount')\n",
    "plt.show()"
   ],
   "id": "1217aede173c094b",
   "outputs": [
    {
     "name": "stdout",
     "output_type": "stream",
     "text": [
      "A closer look at transformed data\n"
     ]
    },
    {
     "data": {
      "text/plain": [
       "<Figure size 640x480 with 1 Axes>"
      ],
      "image/png": "[encoded data removed]"
     },
     "metadata": {},
     "output_type": "display_data"
    }
   ],
   "execution_count": 6
  },
  {
   "metadata": {
    "ExecuteTime": {
     "end_time": "2024-10-01T06:52:42.995482Z",
     "start_time": "2024-10-01T06:52:42.887306Z"
    }
   },
   "cell_type": "code",
   "source": [
    "y = df.select(pl.when(pl.col(\"is_fraud\") == \"Yes\").then(1).otherwise(0)).to_numpy()\n",
    "print(y)"
   ],
   "id": "ebc8cb6365a250c9",
   "outputs": [
    {
     "name": "stdout",
     "output_type": "stream",
     "text": [
      "[[0]\n",
      " [0]\n",
      " [0]\n",
      " ...\n",
      " [0]\n",
      " [0]\n",
      " [0]]\n"
     ]
    }
   ],
   "execution_count": 7
  },
  {
   "metadata": {},
   "cell_type": "markdown",
   "source": "For starters, I've decided to select the following features: amount_usd (log), 'seen_count_last_2_days', 'seen_count_mcc_last_2_days', log_timediff, direction (removed null, binary enc),  date(extract day of weekend), same_city and same_state (binary), card.mcc(frequency enc), card.type (one-hot), card.chip(one-hot), error(frequency enc), is_known_merchant, customer.age (age buckets and label enc), relative_spend = amount_usd / credit_limit",
   "id": "5f00dab299923171"
  },
  {
   "metadata": {
    "ExecuteTime": {
     "end_time": "2024-10-01T06:53:04.868228Z",
     "start_time": "2024-10-01T06:53:03.587317Z"
    }
   },
   "cell_type": "code",
   "source": [
    "df_trans = transform_data(df)\n",
    "print(\"Data have been transformed\")"
   ],
   "id": "cb9f2aba65cfb8a1",
   "outputs": [
    {
     "name": "stdout",
     "output_type": "stream",
     "text": [
      "Data have been transformed\n"
     ]
    }
   ],
   "execution_count": 8
  },
  {
   "metadata": {
    "ExecuteTime": {
     "end_time": "2024-10-01T06:53:21.285229Z",
     "start_time": "2024-10-01T06:53:21.184049Z"
    }
   },
   "cell_type": "code",
   "source": [
    "df_trans.head()\n",
    "#print(df_trans.columns)\n",
    "# df_trans.select('is_fraud')"
   ],
   "id": "84c865aeaa2b1ce0",
   "outputs": [
    {
     "data": {
      "text/plain": [
       "shape: (5, 56)\n",
       "┌───────────┬───────────┬───────────┬───────────┬───┬───────────┬───────────┬───────────┬──────────┐\n",
       "│ timestamp ┆ customer. ┆ direction ┆ amount_us ┆ … ┆ age_bucke ┆ direction ┆ error_fre ┆ mcc_freq │\n",
       "│ ---       ┆ id        ┆ ---       ┆ d         ┆   ┆ t         ┆ _bin      ┆ quency    ┆ uency    │\n",
       "│ i64       ┆ ---       ┆ str       ┆ ---       ┆   ┆ ---       ┆ ---       ┆ ---       ┆ ---      │\n",
       "│           ┆ i64       ┆           ┆ f32       ┆   ┆ i32       ┆ i32       ┆ u32       ┆ u32      │\n",
       "╞═══════════╪═══════════╪═══════════╪═══════════╪═══╪═══════════╪═══════════╪═══════════╪══════════╡\n",
       "│ 154666812 ┆ 0         ┆ outbound  ┆ 120.30000 ┆ … ┆ 4         ┆ 1         ┆ 16826     ┆ 205684   │\n",
       "│ 0         ┆           ┆           ┆ 3         ┆   ┆           ┆           ┆           ┆          │\n",
       "│ 154680540 ┆ 0         ┆ outbound  ┆ 68.43     ┆ … ┆ 4         ┆ 1         ┆ 1695271   ┆ 127675   │\n",
       "│ 0         ┆           ┆           ┆           ┆   ┆           ┆           ┆           ┆          │\n",
       "│ 154702908 ┆ 0         ┆ outbound  ┆ 59.169998 ┆ … ┆ 4         ┆ 1         ┆ 1695271   ┆ 64470    │\n",
       "│ 0         ┆           ┆           ┆           ┆   ┆           ┆           ┆           ┆          │\n",
       "│ 154721238 ┆ 0         ┆ outbound  ┆ 16.07     ┆ … ┆ 4         ┆ 1         ┆ 1695271   ┆ 205684   │\n",
       "│ 0         ┆           ┆           ┆           ┆   ┆           ┆           ┆           ┆          │\n",
       "│ 154727244 ┆ 0         ┆ outbound  ┆ 132.82000 ┆ … ┆ 4         ┆ 1         ┆ 1695271   ┆ 78157    │\n",
       "│ 0         ┆           ┆           ┆ 7         ┆   ┆           ┆           ┆           ┆          │\n",
       "└───────────┴───────────┴───────────┴───────────┴───┴───────────┴───────────┴───────────┴──────────┘"
      ],
      "text/html": [
       "<div><style>\n",
       ".dataframe > thead > tr,\n",
       ".dataframe > tbody > tr {\n",
       "  text-align: right;\n",
       "  white-space: pre-wrap;\n",
       "}\n",
       "</style>\n",
       "<small>shape: (5, 56)</small><table border=\"1\" class=\"dataframe\"><thead><tr><th>timestamp</th><th>customer.id</th><th>direction</th><th>amount_usd</th><th>amount_signed</th><th>date</th><th>customer.name</th><th>customer.age</th><th>customer.gender</th><th>customer.address</th><th>customer.city</th><th>customer.state</th><th>customer.zip</th><th>score</th><th>total_debt</th><th>credit_limit</th><th>latitude</th><th>longitude</th><th>card.id</th><th>card.number</th><th>card.mcc</th><th>card.brand_Amex</th><th>card.brand_Discover</th><th>card.brand_Mastercard</th><th>card.brand_Visa</th><th>card.type_Credit</th><th>card.type_Debit</th><th>card.type_Debit (Prepaid)</th><th>card.chip_Chip Transaction</th><th>card.chip_Online Transaction</th><th>card.chip_Swipe Transaction</th><th>card.expiry_date</th><th>card.cvv</th><th>num_cards</th><th>merchant.name</th><th>merchant.city</th><th>merchant.state</th><th>error</th><th>is_fraud</th><th>is_known_merchant</th><th>seen_count_last_2_days</th><th>seen_count_mcc_last_2_days</th><th>seen_count_last_7_days</th><th>seen_count_mcc_last_7_days</th><th>seen_count_last_30_days</th><th>seen_count_mcc_last_30_days</th><th>log_timediff</th><th>same_city</th><th>same_state</th><th>amount_usd_log</th><th>relative_spend</th><th>weekday</th><th>age_bucket</th><th>direction_bin</th><th>error_frequency</th><th>mcc_frequency</th></tr><tr><td>i64</td><td>i64</td><td>str</td><td>f32</td><td>f32</td><td>datetime[ns]</td><td>str</td><td>i64</td><td>str</td><td>str</td><td>str</td><td>str</td><td>f64</td><td>i64</td><td>f32</td><td>f32</td><td>f64</td><td>f64</td><td>i64</td><td>i64</td><td>i64</td><td>u8</td><td>u8</td><td>u8</td><td>u8</td><td>u8</td><td>u8</td><td>u8</td><td>u8</td><td>u8</td><td>u8</td><td>str</td><td>i64</td><td>i64</td><td>i64</td><td>str</td><td>str</td><td>str</td><td>str</td><td>i64</td><td>i64</td><td>i64</td><td>i64</td><td>i64</td><td>i64</td><td>i64</td><td>f64</td><td>i8</td><td>i8</td><td>f32</td><td>f32</td><td>i8</td><td>i32</td><td>i32</td><td>u32</td><td>u32</td></tr></thead><tbody><tr><td>1546668120</td><td>0</td><td>&quot;outbound&quot;</td><td>120.300003</td><td>120.300003</td><td>2019-01-05 06:02:00</td><td>&quot;Hazel Robinson&quot;</td><td>53</td><td>&quot;Female&quot;</td><td>&quot;462 Rose Lane&quot;</td><td>&quot;La Verne&quot;</td><td>&quot;CA&quot;</td><td>1541.0</td><td>787</td><td>127613.0</td><td>24295.0</td><td>34.15</td><td>-117.76</td><td>0</td><td>4344676511950444</td><td>5411</td><td>0</td><td>0</td><td>0</td><td>1</td><td>0</td><td>1</td><td>0</td><td>1</td><td>0</td><td>0</td><td>&quot;12/2022&quot;</td><td>623</td><td>5</td><td>7522433618679272954</td><td>&quot;Princeton&quot;</td><td>&quot;MA&quot;</td><td>&quot;Insufficient Balance&quot;</td><td>&quot;No&quot;</td><td>0</td><td>0</td><td>0</td><td>0</td><td>0</td><td>0</td><td>4</td><td>11.016019</td><td>0</td><td>0</td><td>4.798267</td><td>0.004952</td><td>6</td><td>4</td><td>1</td><td>16826</td><td>205684</td></tr><tr><td>1546805400</td><td>0</td><td>&quot;outbound&quot;</td><td>68.43</td><td>68.43</td><td>2019-01-06 20:10:00</td><td>&quot;Hazel Robinson&quot;</td><td>53</td><td>&quot;Female&quot;</td><td>&quot;462 Rose Lane&quot;</td><td>&quot;La Verne&quot;</td><td>&quot;CA&quot;</td><td>1536.0</td><td>787</td><td>127613.0</td><td>24295.0</td><td>34.15</td><td>-117.76</td><td>0</td><td>4344676511950444</td><td>5812</td><td>0</td><td>0</td><td>0</td><td>1</td><td>0</td><td>1</td><td>0</td><td>1</td><td>0</td><td>0</td><td>&quot;12/2022&quot;</td><td>623</td><td>5</td><td>-2744911404133435018</td><td>&quot;North Grafton&quot;</td><td>&quot;MA&quot;</td><td>&quot;No error&quot;</td><td>&quot;No&quot;</td><td>1</td><td>0</td><td>0</td><td>0</td><td>0</td><td>0</td><td>0</td><td>10.837245</td><td>0</td><td>0</td><td>4.24032</td><td>0.002817</td><td>7</td><td>4</td><td>1</td><td>1695271</td><td>127675</td></tr><tr><td>1547029080</td><td>0</td><td>&quot;outbound&quot;</td><td>59.169998</td><td>59.169998</td><td>2019-01-09 10:18:00</td><td>&quot;Hazel Robinson&quot;</td><td>53</td><td>&quot;Female&quot;</td><td>&quot;462 Rose Lane&quot;</td><td>&quot;La Verne&quot;</td><td>&quot;CA&quot;</td><td>1536.0</td><td>787</td><td>127613.0</td><td>24295.0</td><td>34.15</td><td>-117.76</td><td>0</td><td>4344676511950444</td><td>7538</td><td>0</td><td>0</td><td>0</td><td>1</td><td>0</td><td>1</td><td>0</td><td>1</td><td>0</td><td>0</td><td>&quot;12/2022&quot;</td><td>623</td><td>5</td><td>-4693979874497918566</td><td>&quot;North Grafton&quot;</td><td>&quot;MA&quot;</td><td>&quot;No error&quot;</td><td>&quot;No&quot;</td><td>0</td><td>0</td><td>0</td><td>0</td><td>0</td><td>0</td><td>1</td><td>10.837245</td><td>0</td><td>0</td><td>4.097174</td><td>0.002435</td><td>3</td><td>4</td><td>1</td><td>1695271</td><td>64470</td></tr><tr><td>1547212380</td><td>0</td><td>&quot;outbound&quot;</td><td>16.07</td><td>16.07</td><td>2019-01-11 13:13:00</td><td>&quot;Hazel Robinson&quot;</td><td>53</td><td>&quot;Female&quot;</td><td>&quot;462 Rose Lane&quot;</td><td>&quot;La Verne&quot;</td><td>&quot;CA&quot;</td><td>1541.0</td><td>787</td><td>127613.0</td><td>24295.0</td><td>34.15</td><td>-117.76</td><td>0</td><td>4344676511950444</td><td>5411</td><td>0</td><td>0</td><td>0</td><td>1</td><td>0</td><td>1</td><td>0</td><td>1</td><td>0</td><td>0</td><td>&quot;12/2022&quot;</td><td>623</td><td>5</td><td>7522433618679272954</td><td>&quot;Princeton&quot;</td><td>&quot;MA&quot;</td><td>&quot;No error&quot;</td><td>&quot;No&quot;</td><td>1</td><td>0</td><td>0</td><td>1</td><td>1</td><td>1</td><td>3</td><td>9.259226</td><td>0</td><td>0</td><td>2.837323</td><td>0.000661</td><td>5</td><td>4</td><td>1</td><td>1695271</td><td>205684</td></tr><tr><td>1547272440</td><td>0</td><td>&quot;outbound&quot;</td><td>132.820007</td><td>132.820007</td><td>2019-01-12 05:54:00</td><td>&quot;Hazel Robinson&quot;</td><td>53</td><td>&quot;Female&quot;</td><td>&quot;462 Rose Lane&quot;</td><td>&quot;La Verne&quot;</td><td>&quot;CA&quot;</td><td>1566.0</td><td>787</td><td>127613.0</td><td>24295.0</td><td>34.15</td><td>-117.76</td><td>0</td><td>4344676511950444</td><td>5300</td><td>0</td><td>0</td><td>0</td><td>1</td><td>0</td><td>1</td><td>0</td><td>1</td><td>0</td><td>0</td><td>&quot;12/2022&quot;</td><td>623</td><td>5</td><td>1913477460590765860</td><td>&quot;Sturbridge&quot;</td><td>&quot;MA&quot;</td><td>&quot;No error&quot;</td><td>&quot;No&quot;</td><td>1</td><td>0</td><td>0</td><td>0</td><td>0</td><td>0</td><td>0</td><td>11.003116</td><td>0</td><td>0</td><td>4.896496</td><td>0.005467</td><td>6</td><td>4</td><td>1</td><td>1695271</td><td>78157</td></tr></tbody></table></div>"
      ]
     },
     "execution_count": 10,
     "metadata": {},
     "output_type": "execute_result"
    }
   ],
   "execution_count": 10
  },
  {
   "metadata": {
    "ExecuteTime": {
     "end_time": "2024-10-01T09:02:51.326021Z",
     "start_time": "2024-10-01T09:02:50.995770Z"
    }
   },
   "cell_type": "code",
   "source": [
    "feature_columns1 = ['direction_bin', 'amount_usd_log', 'relative_spend', 'weekday', 'seen_count_last_2_days', 'same_state',                              'same_city', 'error_frequency', 'mcc_frequency','card.brand_Amex', 'card.brand_Discover', 'card.brand_Mastercard',\n",
    "                   'card.brand_Visa', 'card.type_Credit', 'card.type_Debit', 'card.type_Debit (Prepaid)',                 'card.chip_Chip Transaction', 'card.chip_Online Transaction', 'card.chip_Swipe Transaction', 'is_known_merchant', 'age_bucket', 'log_timediff', 'seen_count_mcc_last_2_days'] \n",
    "\n",
    "feature_columns2 = ['direction_bin', 'amount_usd_log', 'relative_spend', 'weekday', 'seen_count_last_2_days', 'same_state',                              'same_city', 'error_frequency', 'mcc_frequency', 'card.type_Credit', 'card.type_Debit', 'card.type_Debit (Prepaid)',                 'card.chip_Chip Transaction', 'card.chip_Online Transaction', 'card.chip_Swipe Transaction', 'is_known_merchant'] \n",
    "\n",
    "target_column = 'is_fraud'\n",
    "X1 = df_trans.select(feature_columns1).to_numpy()\n",
    "X = df_trans.select(feature_columns2).to_numpy()\n",
    "y = df_trans.select(pl.when(pl.col(\"is_fraud\") == \"Yes\").then(1).otherwise(0)).to_numpy().flatten()"
   ],
   "id": "4ed8e6ac127b0164",
   "outputs": [],
   "execution_count": 53
  },
  {
   "metadata": {
    "ExecuteTime": {
     "end_time": "2024-10-01T09:10:29.448816Z",
     "start_time": "2024-10-01T09:03:06.236038Z"
    }
   },
   "cell_type": "code",
   "source": [
    "test_rf(X1, y, None)\n",
    "best_threshold = find_threshold(X, y)\n",
    "test_rf(X, y, best_threshold)\n"
   ],
   "id": "e6c2b68ce159e7ed",
   "outputs": [
    {
     "name": "stdout",
     "output_type": "stream",
     "text": [
      "Without threshold optimization\n",
      "[[344114      4]\n",
      " [   383     26]]\n",
      "Precision: 0.8667\n",
      "Recall: 0.0636\n",
      "F1 Score: 0.1185\n",
      "Best Threshold: 0.22, Best F1 Score: 0.3632\n",
      "Without threshold optimization\n",
      "[[344086     32]\n",
      " [   346     63]]\n",
      "Precision: 0.6632\n",
      "Recall: 0.1540\n",
      "F1 Score: 0.2500\n",
      "With threshold optimization\n",
      "[[343878    240]\n",
      " [   265    144]]\n",
      "Precision: 0.3750\n",
      "Recall: 0.3521\n",
      "F1 Score: 0.3632\n"
     ]
    }
   ],
   "execution_count": 54
  },
  {
   "metadata": {
    "ExecuteTime": {
     "end_time": "2024-10-01T09:58:21.914804Z",
     "start_time": "2024-10-01T09:58:08.580886Z"
    }
   },
   "cell_type": "code",
   "source": [
    "test_xgb(X1, y, False)\n",
    "test_xgb(X1, y, True)"
   ],
   "id": "d4941374ebb5f2d6",
   "outputs": [
    {
     "name": "stdout",
     "output_type": "stream",
     "text": [
      "XGBoost Results:\n",
      "              precision    recall  f1-score   support\n",
      "\n",
      "           0       1.00      1.00      1.00    344118\n",
      "           1       0.74      0.25      0.37       409\n",
      "\n",
      "    accuracy                           1.00    344527\n",
      "   macro avg       0.87      0.62      0.69    344527\n",
      "weighted avg       1.00      1.00      1.00    344527\n",
      "\n",
      "[[344083     35]\n",
      " [   308    101]]\n",
      "XGBoost Results:\n",
      "              precision    recall  f1-score   support\n",
      "\n",
      "           0       1.00      1.00      1.00    344118\n",
      "           1       0.29      0.66      0.40       409\n",
      "\n",
      "    accuracy                           1.00    344527\n",
      "   macro avg       0.65      0.83      0.70    344527\n",
      "weighted avg       1.00      1.00      1.00    344527\n",
      "\n",
      "[[343461    657]\n",
      " [   139    270]]\n"
     ]
    }
   ],
   "execution_count": 77
  },
  {
   "metadata": {
    "ExecuteTime": {
     "end_time": "2024-10-01T09:43:34.976470Z",
     "start_time": "2024-10-01T09:43:30.473632Z"
    }
   },
   "cell_type": "code",
   "source": "test_lightgbm(X, y)",
   "id": "22c1c075bc552970",
   "outputs": [
    {
     "name": "stdout",
     "output_type": "stream",
     "text": [
      "{0: 0.5006084581126538, 1: 411.37462686567164}\n",
      "[LightGBM] [Info] Number of positive: 1675, number of negative: 1376430\n",
      "[LightGBM] [Info] Auto-choosing row-wise multi-threading, the overhead of testing was 0.032137 seconds.\n",
      "You can set `force_row_wise=true` to remove the overhead.\n",
      "And if memory is not enough, you can set `force_col_wise=true`.\n",
      "[LightGBM] [Info] Total Bins 913\n",
      "[LightGBM] [Info] Number of data points in the train set: 1378105, number of used features: 16\n",
      "[LightGBM] [Info] [binary:BoostFromScore]: pavg=0.001215 -> initscore=-6.711435\n",
      "[LightGBM] [Info] Start training from score -6.711435\n",
      "LightGBM Results:\n",
      "              precision    recall  f1-score   support\n",
      "\n",
      "           0       1.00      1.00      1.00    344118\n",
      "           1       0.29      0.23      0.26       409\n",
      "\n",
      "    accuracy                           1.00    344527\n",
      "   macro avg       0.65      0.62      0.63    344527\n",
      "weighted avg       1.00      1.00      1.00    344527\n",
      "\n",
      "[[343886    232]\n",
      " [   313     96]]\n"
     ]
    }
   ],
   "execution_count": 69
  },
  {
   "metadata": {
    "jupyter": {
     "is_executing": true
    },
    "ExecuteTime": {
     "start_time": "2024-10-01T10:10:32.695252Z"
    }
   },
   "cell_type": "code",
   "source": "test_logistic_regression(X, y)",
   "id": "a6c68d3645565cbb",
   "outputs": [],
   "execution_count": null
  },
  {
   "metadata": {
    "ExecuteTime": {
     "end_time": "2024-10-01T10:07:26.829152Z",
     "start_time": "2024-10-01T10:07:23.004906Z"
    }
   },
   "cell_type": "code",
   "source": "test_perceptron(X1,y)",
   "id": "646c1356209d4cb6",
   "outputs": [
    {
     "name": "stdout",
     "output_type": "stream",
     "text": [
      "Perceptron Results:\n",
      "[[302841  41277]\n",
      " [   263    146]]\n",
      "              precision    recall  f1-score   support\n",
      "\n",
      "           0       1.00      0.88      0.94    344118\n",
      "           1       0.00      0.36      0.01       409\n",
      "\n",
      "    accuracy                           0.88    344527\n",
      "   macro avg       0.50      0.62      0.47    344527\n",
      "weighted avg       1.00      0.88      0.93    344527\n",
      "\n"
     ]
    }
   ],
   "execution_count": 83
  },
  {
   "metadata": {},
   "cell_type": "markdown",
   "source": "",
   "id": "c389b61b5a22e096"
  },
  {
   "metadata": {},
   "cell_type": "markdown",
   "source": "",
   "id": "b64e7de3d1181bcc"
  },
  {
   "metadata": {},
   "cell_type": "markdown",
   "source": "",
   "id": "d134417b156d5620"
  }
 ],
 "metadata": {
  "kernelspec": {
   "display_name": "Python 3",
   "language": "python",
   "name": "python3"
  },
  "language_info": {
   "codemirror_mode": {
    "name": "ipython",
    "version": 2
   },
   "file_extension": ".py",
   "mimetype": "text/x-python",
   "name": "python",
   "nbconvert_exporter": "python",
   "pygments_lexer": "ipython2",
   "version": "2.7.6"
  }
 },
 "nbformat": 4,
 "nbformat_minor": 5
}
